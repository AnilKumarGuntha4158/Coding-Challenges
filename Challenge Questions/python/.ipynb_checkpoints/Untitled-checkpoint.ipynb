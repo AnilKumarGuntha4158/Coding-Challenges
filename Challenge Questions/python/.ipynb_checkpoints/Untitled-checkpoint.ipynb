{
 "cells": [
  {
   "cell_type": "code",
   "execution_count": null,
   "metadata": {},
   "outputs": [],
   "source": [
    "# -*- coding: utf-8 -*-\n",
    "\"\"\"\n",
    "Created on Thu Mar 14 14:35:17 2019\n",
    "\n",
    "@author: anil kumar\n",
    "\"\"\"\n",
    "\"\"\"\n",
    "import numpy as np\n",
    "from scipy import stats\n",
    "scores=np.array([109.4,76.2,128.7,93.7,85.6,117.7,117.2,87.3,100.3,55.1])\n",
    "t=(110-np.mean(scores))/(stats.sem(scores))\n",
    "td=stats.t(len(scores)-1)\n",
    "p=2*td.sf(t)\n",
    "print('tva1',t)\n",
    "print('p',p)\n",
    "\"\"\"\n",
    "\"\"\"\n",
    "import numpy as np\n",
    "from scipy import stats\n",
    "onesampledata=[177.3,182.7,169.6,176.3,180.3,179.4,178.5,177.2,181.8,176.5]\n",
    "t,p_val=stats.ttest_1samp(onesampledata,177)\n",
    "print(\"t-statstic:\",t)\n",
    "print(\"the p-value is:\",p_val)\"\"\"\n",
    "import pandas as pd\n",
    "import numpy as np\n",
    "from statsmodels.formula.api import ols\n",
    "from statsmodels.stats.anova import anova_lm\n",
    "data=np.random.rand(1000,2)\n",
    "df = pd.DataFrame(data, columns=['value', 'treatment'])\n",
    "model = ols('value ~ C(treatment)', df).fit()\n",
    "anovaResults = anova_lm(model)\n",
    "print(anovaResults)\n",
    "\n",
    "\n"
   ]
  },
  {
   "cell_type": "code",
   "execution_count": null,
   "metadata": {},
   "outputs": [],
   "source": []
  },
  {
   "cell_type": "code",
   "execution_count": null,
   "metadata": {},
   "outputs": [],
   "source": []
  }
 ],
 "metadata": {
  "kernelspec": {
   "display_name": "Python 3",
   "language": "python",
   "name": "python3"
  },
  "language_info": {
   "codemirror_mode": {
    "name": "ipython",
    "version": 3
   },
   "file_extension": ".py",
   "mimetype": "text/x-python",
   "name": "python",
   "nbconvert_exporter": "python",
   "pygments_lexer": "ipython3",
   "version": "3.7.1"
  }
 },
 "nbformat": 4,
 "nbformat_minor": 2
}
